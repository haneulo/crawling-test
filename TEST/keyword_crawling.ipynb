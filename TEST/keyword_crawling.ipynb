{
 "cells": [
  {
   "cell_type": "code",
   "execution_count": 1,
   "metadata": {},
   "outputs": [
    {
     "name": "stdout",
     "output_type": "stream",
     "text": [
      "노트북 삼성전자 노트북 플러스2 15.6, 퓨어 화이트, NT550XDA-K24AT, 펜티엄, 256GB, 8GB, WIN11 Pro #product2_detail.html 549000\n",
      "노트북 삼성전자 갤럭시북 2 15.6, 500GB, 실버, NT550XED-K78AS, 코어i7, 16GB, WIN11 Home #product10_detail.html 1149000\n",
      "데스크탑 삼성전자 컴퓨터 i7-8700 T8A 정품 윈도우11 Pro 탑재 사무용 데스크탑 PC 본체, 기본스펙, 삼성 T8A i7-8700+8GB+500GB #product15_detail.html 416000\n",
      "데스크탑 삼성전자 사무용 게임용 리퍼 중고컴퓨터 i3 i5 i7 GTX1060 무상A/S 1년 새상품SSD, 7번) i5-7세대-미들[게임용 조립] #product16_detail.html 436000\n",
      "데스크탑 삼성전자 삼성 DM500SFZ-AD5A 최신 13세대 CPU-i5 데스크탑 슬림형 PC본체 사무용 컴퓨터 인터넷강의 재택근무 업무용, 블랙 #product17_detail.html 889000\n",
      "데스크탑 삼성 컴퓨터 본체 조립PC 모니터포함 풀세트 사무용 게이밍 데스크탑 윈도우10, 본체만, 10. 라이젠5600/32G/500/4060 #product19_detail.html 1099000\n",
      "휴대폰 삼성전자 갤럭시 A34 자급제, 어썸 그라파이트, 128GB #product21_detail.html 408400\n",
      "휴대폰 삼성전자 갤럭시 A34 자급제, 어썸 바이올렛, 128GB #product22_detail.html 408400\n",
      "휴대폰 삼성전자 갤럭시 A34 자급제, 어썸 실버, 128GB #product23_detail.html 409510\n",
      "휴대폰 삼성전자 갤럭시 A24 자급제, 블랙, 128GB #product24_detail.html 319000\n",
      "휴대폰 삼성전자 갤럭시 S23 자급제, 라벤더, 256GB #product25_detail.html 952450\n",
      "휴대폰 삼성전자 갤럭시 S23 자급제, 크림, 256GB #product26_detail.html 1004850\n",
      "휴대폰 삼성전자 갤럭시 A23 공기계 128GB, 블루, A급 #product27_detail.html 199000\n",
      "휴대폰 삼성전자 갤럭시 Z 플립5 5G 자급제, 크림, 512GB #product28_detail.html 1216050\n",
      "휴대폰 삼성전자 갤럭시 S23 5G 256GB 제휴카드 새제품 미개봉 미개통, 그린 #product29_detail.html 147000\n",
      "휴대폰 삼성전자 갤럭시 S23 FE 자급제 SM-S711N, 크림, 256GB #product30_detail.html 719900\n"
     ]
    }
   ],
   "source": [
    "import requests\n",
    "from bs4 import BeautifulSoup\n",
    "\n",
    "keyword = input(\"검색어를 입력하세요: \")\n",
    "\n",
    "for i in range(1, 5):\n",
    "    response = requests.get(f\"https://startcoding.pythonanywhere.com/basic?page={i}&keyword={keyword}\")\n",
    "    html = response.text\n",
    "    soup = BeautifulSoup(html, 'html.parser')\n",
    "    items = soup.select(\".product\")\n",
    "    for item in items:\n",
    "        category = item.select_one(\".product-category\").text\n",
    "        name = item.select_one(\".product-name\").text\n",
    "        link = item.select_one(\".product-name > a\").attrs['href']\n",
    "        price = item.select_one(\".product-price\").text.split('원')[0].replace(',','')\n",
    "        print(category, name, link, price)"
   ]
  },
  {
   "cell_type": "code",
   "execution_count": null,
   "metadata": {},
   "outputs": [],
   "source": []
  }
 ],
 "metadata": {
  "kernelspec": {
   "display_name": "Python 3",
   "language": "python",
   "name": "python3"
  },
  "language_info": {
   "codemirror_mode": {
    "name": "ipython",
    "version": 3
   },
   "file_extension": ".py",
   "mimetype": "text/x-python",
   "name": "python",
   "nbconvert_exporter": "python",
   "pygments_lexer": "ipython3",
   "version": "3.13.2"
  }
 },
 "nbformat": 4,
 "nbformat_minor": 2
}
